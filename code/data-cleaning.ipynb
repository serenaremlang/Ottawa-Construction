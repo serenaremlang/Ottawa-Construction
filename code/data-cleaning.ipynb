{
 "cells": [
  {
   "cell_type": "code",
   "execution_count": 6,
   "metadata": {},
   "outputs": [],
   "source": [
    "import pymongo\n",
    "import pandas as pd\n",
    "# from pandas.io.json import json_normalize\n",
    "from pprint import pprint\n",
    "\n",
    "conn = 'mongodb://localhost:27017'\n",
    "client = pymongo.MongoClient(conn)"
   ]
  },
  {
   "cell_type": "code",
   "execution_count": 8,
   "metadata": {},
   "outputs": [],
   "source": [
    "db = client.Ottawa"
   ]
  },
  {
   "cell_type": "code",
   "execution_count": 9,
   "metadata": {},
   "outputs": [],
   "source": [
    "construction = db.geo_.find()\n",
    "ward = db.geo_ward.find()"
   ]
  },
  {
   "cell_type": "code",
   "execution_count": 35,
   "metadata": {},
   "outputs": [
    {
     "name": "stdout",
     "output_type": "stream",
     "text": [
      "<pymongo.cursor.Cursor object at 0x7f8a9f7c7400>\n"
     ]
    }
   ],
   "source": [
    "pprint(construction)"
   ]
  },
  {
   "cell_type": "code",
   "execution_count": 14,
   "metadata": {},
   "outputs": [],
   "source": [
    "for item in construction:\n",
    "    print(item.attributes.FEATURE_TYPE)\n",
    "    break"
   ]
  },
  {
   "cell_type": "code",
   "execution_count": 10,
   "metadata": {},
   "outputs": [
    {
     "data": {
      "text/html": [
       "<div>\n",
       "<style scoped>\n",
       "    .dataframe tbody tr th:only-of-type {\n",
       "        vertical-align: middle;\n",
       "    }\n",
       "\n",
       "    .dataframe tbody tr th {\n",
       "        vertical-align: top;\n",
       "    }\n",
       "\n",
       "    .dataframe thead th {\n",
       "        text-align: right;\n",
       "    }\n",
       "</style>\n",
       "<table border=\"1\" class=\"dataframe\">\n",
       "  <thead>\n",
       "    <tr style=\"text-align: right;\">\n",
       "      <th></th>\n",
       "      <th>_id</th>\n",
       "      <th>attributes</th>\n",
       "      <th>geometry</th>\n",
       "    </tr>\n",
       "  </thead>\n",
       "  <tbody>\n",
       "    <tr>\n",
       "      <th>0</th>\n",
       "      <td>61a818c64934cce5a76e1117</td>\n",
       "      <td>{'FEATURE_TYPE': 'RD_SURF', 'STATUS': 'PLANNED...</td>\n",
       "      <td>{'paths': [[[-75.77884909360114, 45.1553044723...</td>\n",
       "    </tr>\n",
       "    <tr>\n",
       "      <th>1</th>\n",
       "      <td>61a818c64934cce5a76e1118</td>\n",
       "      <td>{'FEATURE_TYPE': 'MCR', 'STATUS': 'PLANNED', '...</td>\n",
       "      <td>{'paths': [[[-75.66734346766317, 45.3988364426...</td>\n",
       "    </tr>\n",
       "    <tr>\n",
       "      <th>2</th>\n",
       "      <td>61a818c64934cce5a76e1119</td>\n",
       "      <td>{'FEATURE_TYPE': 'RRSW', 'STATUS': 'PLANNED', ...</td>\n",
       "      <td>{'paths': [[[-75.71887020623451, 45.3651246829...</td>\n",
       "    </tr>\n",
       "    <tr>\n",
       "      <th>3</th>\n",
       "      <td>61a818c64934cce5a76e111a</td>\n",
       "      <td>{'FEATURE_TYPE': 'RD_SURF', 'STATUS': 'PLANNED...</td>\n",
       "      <td>{'paths': [[[-75.38074251869506, 45.1709870762...</td>\n",
       "    </tr>\n",
       "    <tr>\n",
       "      <th>4</th>\n",
       "      <td>61a818c64934cce5a76e111b</td>\n",
       "      <td>{'FEATURE_TYPE': 'RRSW', 'STATUS': 'PLANNED', ...</td>\n",
       "      <td>{'paths': [[[-75.63977330831256, 45.4191333671...</td>\n",
       "    </tr>\n",
       "    <tr>\n",
       "      <th>...</th>\n",
       "      <td>...</td>\n",
       "      <td>...</td>\n",
       "      <td>...</td>\n",
       "    </tr>\n",
       "    <tr>\n",
       "      <th>2018</th>\n",
       "      <td>61a8191165e85eb0a990c0a4</td>\n",
       "      <td>{'FEATURE_TYPE': 'SCR', 'STATUS': 'PLANNED', '...</td>\n",
       "      <td>{'paths': [[[-75.95810304416993, 45.3979245235...</td>\n",
       "    </tr>\n",
       "    <tr>\n",
       "      <th>2019</th>\n",
       "      <td>61a8191165e85eb0a990c0a5</td>\n",
       "      <td>{'FEATURE_TYPE': 'SCR', 'STATUS': 'PLANNED', '...</td>\n",
       "      <td>{'paths': [[[-75.77701675949194, 45.3749020621...</td>\n",
       "    </tr>\n",
       "    <tr>\n",
       "      <th>2020</th>\n",
       "      <td>61a8191165e85eb0a990c0a6</td>\n",
       "      <td>{'FEATURE_TYPE': 'SCR', 'STATUS': 'PLANNED', '...</td>\n",
       "      <td>{'paths': [[[-75.59935027665897, 45.1398239389...</td>\n",
       "    </tr>\n",
       "    <tr>\n",
       "      <th>2021</th>\n",
       "      <td>61a8191165e85eb0a990c0a7</td>\n",
       "      <td>{'FEATURE_TYPE': 'SCR', 'STATUS': 'PLANNED', '...</td>\n",
       "      <td>{'paths': [[[-76.07277679814628, 45.3177408912...</td>\n",
       "    </tr>\n",
       "    <tr>\n",
       "      <th>2022</th>\n",
       "      <td>61a8191165e85eb0a990c0a8</td>\n",
       "      <td>{'FEATURE_TYPE': 'SCR', 'STATUS': 'PLANNED', '...</td>\n",
       "      <td>{'paths': [[[-75.9922932050562, 45.14835616143...</td>\n",
       "    </tr>\n",
       "  </tbody>\n",
       "</table>\n",
       "<p>2023 rows × 3 columns</p>\n",
       "</div>"
      ],
      "text/plain": [
       "                           _id  \\\n",
       "0     61a818c64934cce5a76e1117   \n",
       "1     61a818c64934cce5a76e1118   \n",
       "2     61a818c64934cce5a76e1119   \n",
       "3     61a818c64934cce5a76e111a   \n",
       "4     61a818c64934cce5a76e111b   \n",
       "...                        ...   \n",
       "2018  61a8191165e85eb0a990c0a4   \n",
       "2019  61a8191165e85eb0a990c0a5   \n",
       "2020  61a8191165e85eb0a990c0a6   \n",
       "2021  61a8191165e85eb0a990c0a7   \n",
       "2022  61a8191165e85eb0a990c0a8   \n",
       "\n",
       "                                             attributes  \\\n",
       "0     {'FEATURE_TYPE': 'RD_SURF', 'STATUS': 'PLANNED...   \n",
       "1     {'FEATURE_TYPE': 'MCR', 'STATUS': 'PLANNED', '...   \n",
       "2     {'FEATURE_TYPE': 'RRSW', 'STATUS': 'PLANNED', ...   \n",
       "3     {'FEATURE_TYPE': 'RD_SURF', 'STATUS': 'PLANNED...   \n",
       "4     {'FEATURE_TYPE': 'RRSW', 'STATUS': 'PLANNED', ...   \n",
       "...                                                 ...   \n",
       "2018  {'FEATURE_TYPE': 'SCR', 'STATUS': 'PLANNED', '...   \n",
       "2019  {'FEATURE_TYPE': 'SCR', 'STATUS': 'PLANNED', '...   \n",
       "2020  {'FEATURE_TYPE': 'SCR', 'STATUS': 'PLANNED', '...   \n",
       "2021  {'FEATURE_TYPE': 'SCR', 'STATUS': 'PLANNED', '...   \n",
       "2022  {'FEATURE_TYPE': 'SCR', 'STATUS': 'PLANNED', '...   \n",
       "\n",
       "                                               geometry  \n",
       "0     {'paths': [[[-75.77884909360114, 45.1553044723...  \n",
       "1     {'paths': [[[-75.66734346766317, 45.3988364426...  \n",
       "2     {'paths': [[[-75.71887020623451, 45.3651246829...  \n",
       "3     {'paths': [[[-75.38074251869506, 45.1709870762...  \n",
       "4     {'paths': [[[-75.63977330831256, 45.4191333671...  \n",
       "...                                                 ...  \n",
       "2018  {'paths': [[[-75.95810304416993, 45.3979245235...  \n",
       "2019  {'paths': [[[-75.77701675949194, 45.3749020621...  \n",
       "2020  {'paths': [[[-75.59935027665897, 45.1398239389...  \n",
       "2021  {'paths': [[[-76.07277679814628, 45.3177408912...  \n",
       "2022  {'paths': [[[-75.9922932050562, 45.14835616143...  \n",
       "\n",
       "[2023 rows x 3 columns]"
      ]
     },
     "execution_count": 10,
     "metadata": {},
     "output_type": "execute_result"
    }
   ],
   "source": [
    "construction_df = pd.DataFrame(list(construction))\n",
    "construction_df"
   ]
  },
  {
   "cell_type": "code",
   "execution_count": 28,
   "metadata": {},
   "outputs": [
    {
     "data": {
      "text/html": [
       "<div>\n",
       "<style scoped>\n",
       "    .dataframe tbody tr th:only-of-type {\n",
       "        vertical-align: middle;\n",
       "    }\n",
       "\n",
       "    .dataframe tbody tr th {\n",
       "        vertical-align: top;\n",
       "    }\n",
       "\n",
       "    .dataframe thead th {\n",
       "        text-align: right;\n",
       "    }\n",
       "</style>\n",
       "<table border=\"1\" class=\"dataframe\">\n",
       "  <thead>\n",
       "    <tr style=\"text-align: right;\">\n",
       "      <th></th>\n",
       "    </tr>\n",
       "  </thead>\n",
       "  <tbody>\n",
       "  </tbody>\n",
       "</table>\n",
       "</div>"
      ],
      "text/plain": [
       "Empty DataFrame\n",
       "Columns: []\n",
       "Index: []"
      ]
     },
     "execution_count": 28,
     "metadata": {},
     "output_type": "execute_result"
    }
   ],
   "source": [
    "construction_df"
   ]
  },
  {
   "cell_type": "code",
   "execution_count": 1,
   "metadata": {},
   "outputs": [
    {
     "name": "stdout",
     "output_type": "stream",
     "text": [
      "Collecting odo\n",
      "  Downloading odo-0.5.0.tar.gz (129 kB)\n",
      "\u001b[K     |████████████████████████████████| 129 kB 384 kB/s \n",
      "\u001b[?25hCollecting datashape>=0.5.0\n",
      "  Downloading datashape-0.5.2.tar.gz (76 kB)\n",
      "\u001b[K     |████████████████████████████████| 76 kB 289 kB/s \n",
      "\u001b[?25hRequirement already satisfied: numpy>=1.7 in /Users/Serena/anaconda3/envs/PythonData/lib/python3.6/site-packages (from odo) (1.19.5)\n",
      "Requirement already satisfied: pandas>=0.15.0 in /Users/Serena/anaconda3/envs/PythonData/lib/python3.6/site-packages (from odo) (1.1.5)\n",
      "Collecting toolz>=0.7.3\n",
      "  Downloading toolz-0.11.2-py3-none-any.whl (55 kB)\n",
      "\u001b[K     |████████████████████████████████| 55 kB 926 kB/s \n",
      "\u001b[?25hCollecting multipledispatch>=0.4.7\n",
      "  Downloading multipledispatch-0.6.0-py3-none-any.whl (11 kB)\n",
      "Collecting networkx\n",
      "  Downloading networkx-2.5.1-py3-none-any.whl (1.6 MB)\n",
      "\u001b[K     |████████████████████████████████| 1.6 MB 2.0 MB/s \n",
      "\u001b[?25hRequirement already satisfied: python-dateutil in /Users/Serena/anaconda3/envs/PythonData/lib/python3.6/site-packages (from datashape>=0.5.0->odo) (2.8.2)\n",
      "Requirement already satisfied: six in /Users/Serena/anaconda3/envs/PythonData/lib/python3.6/site-packages (from multipledispatch>=0.4.7->odo) (1.16.0)\n",
      "Requirement already satisfied: pytz>=2017.2 in /Users/Serena/anaconda3/envs/PythonData/lib/python3.6/site-packages (from pandas>=0.15.0->odo) (2021.1)\n",
      "Collecting decorator<5,>=4.3\n",
      "  Downloading decorator-4.4.2-py2.py3-none-any.whl (9.2 kB)\n",
      "Building wheels for collected packages: odo, datashape\n",
      "  Building wheel for odo (setup.py) ... \u001b[?25ldone\n",
      "\u001b[?25h  Created wheel for odo: filename=odo-0.5.0-py3-none-any.whl size=128158 sha256=a8dc6bad637213a25fd8fe9ba2e7daae06cb3e427d2b00b4d04e1f6af48fdf05\n",
      "  Stored in directory: /Users/Serena/Library/Caches/pip/wheels/b4/3e/50/c494f512e389d20f6e355ccd168e8c8f266adaa20a035a6028\n",
      "  Building wheel for datashape (setup.py) ... \u001b[?25ldone\n",
      "\u001b[?25h  Created wheel for datashape: filename=datashape-0.5.2-py3-none-any.whl size=59429 sha256=793ce80acd0e759cfde701eac0732644c71b5e400bbfe048bcd47c6d0734d954\n",
      "  Stored in directory: /Users/Serena/Library/Caches/pip/wheels/81/61/fc/7d268954f6907b2a547c7895012769cde53af58f1aaf95a54c\n",
      "Successfully built odo datashape\n",
      "Installing collected packages: multipledispatch, decorator, toolz, networkx, datashape, odo\n",
      "  Attempting uninstall: decorator\n",
      "    Found existing installation: decorator 5.0.9\n",
      "    Uninstalling decorator-5.0.9:\n",
      "      Successfully uninstalled decorator-5.0.9\n",
      "Successfully installed datashape-0.5.2 decorator-4.4.2 multipledispatch-0.6.0 networkx-2.5.1 odo-0.5.0 toolz-0.11.2\n",
      "Note: you may need to restart the kernel to use updated packages.\n"
     ]
    }
   ],
   "source": [
    "pip install odo"
   ]
  },
  {
   "cell_type": "code",
   "execution_count": 4,
   "metadata": {},
   "outputs": [
    {
     "ename": "AttributeError",
     "evalue": "module 'pandas' has no attribute 'tslib'",
     "output_type": "error",
     "traceback": [
      "\u001b[0;31m---------------------------------------------------------------------------\u001b[0m",
      "\u001b[0;31mAttributeError\u001b[0m                            Traceback (most recent call last)",
      "\u001b[0;32m<ipython-input-4-75b160eb0a5c>\u001b[0m in \u001b[0;36m<module>\u001b[0;34m\u001b[0m\n\u001b[0;32m----> 1\u001b[0;31m \u001b[0;32mfrom\u001b[0m \u001b[0modo\u001b[0m \u001b[0;32mimport\u001b[0m \u001b[0modo\u001b[0m\u001b[0;34m\u001b[0m\u001b[0;34m\u001b[0m\u001b[0m\n\u001b[0m\u001b[1;32m      2\u001b[0m \u001b[0;34m\u001b[0m\u001b[0m\n\u001b[1;32m      3\u001b[0m \u001b[0mdata\u001b[0m \u001b[0;34m=\u001b[0m \u001b[0modo\u001b[0m\u001b[0;34m(\u001b[0m\u001b[0;34m'mongodb://27017/ottawa::geo_'\u001b[0m\u001b[0;34m,\u001b[0m \u001b[0mpd\u001b[0m\u001b[0;34m.\u001b[0m\u001b[0mDataFrame\u001b[0m\u001b[0;34m)\u001b[0m\u001b[0;34m\u001b[0m\u001b[0;34m\u001b[0m\u001b[0m\n",
      "\u001b[0;32m~/anaconda3/envs/PythonData/lib/python3.6/site-packages/odo/__init__.py\u001b[0m in \u001b[0;36m<module>\u001b[0;34m\u001b[0m\n\u001b[1;32m     27\u001b[0m     \u001b[0;32mfrom\u001b[0m \u001b[0;34m.\u001b[0m\u001b[0mbackends\u001b[0m\u001b[0;34m.\u001b[0m\u001b[0msas\u001b[0m \u001b[0;32mimport\u001b[0m \u001b[0msas7bdat\u001b[0m\u001b[0;34m\u001b[0m\u001b[0;34m\u001b[0m\u001b[0m\n\u001b[1;32m     28\u001b[0m \u001b[0;32mwith\u001b[0m \u001b[0mignoring\u001b[0m\u001b[0;34m(\u001b[0m\u001b[0mImportError\u001b[0m\u001b[0;34m)\u001b[0m\u001b[0;34m:\u001b[0m\u001b[0;34m\u001b[0m\u001b[0;34m\u001b[0m\u001b[0m\n\u001b[0;32m---> 29\u001b[0;31m     \u001b[0;32mfrom\u001b[0m \u001b[0;34m.\u001b[0m\u001b[0mbackends\u001b[0m\u001b[0;34m.\u001b[0m\u001b[0mpandas\u001b[0m \u001b[0;32mimport\u001b[0m \u001b[0mpd\u001b[0m\u001b[0;34m\u001b[0m\u001b[0;34m\u001b[0m\u001b[0m\n\u001b[0m\u001b[1;32m     30\u001b[0m \u001b[0;32mwith\u001b[0m \u001b[0mignoring\u001b[0m\u001b[0;34m(\u001b[0m\u001b[0mImportError\u001b[0m\u001b[0;34m)\u001b[0m\u001b[0;34m:\u001b[0m\u001b[0;34m\u001b[0m\u001b[0;34m\u001b[0m\u001b[0m\n\u001b[1;32m     31\u001b[0m     \u001b[0;32mfrom\u001b[0m \u001b[0;34m.\u001b[0m\u001b[0mbackends\u001b[0m\u001b[0;34m.\u001b[0m\u001b[0mbcolz\u001b[0m \u001b[0;32mimport\u001b[0m \u001b[0mbcolz\u001b[0m\u001b[0;34m\u001b[0m\u001b[0;34m\u001b[0m\u001b[0m\n",
      "\u001b[0;32m~/anaconda3/envs/PythonData/lib/python3.6/site-packages/odo/backends/pandas.py\u001b[0m in \u001b[0;36m<module>\u001b[0;34m\u001b[0m\n\u001b[1;32m     92\u001b[0m \u001b[0;34m\u001b[0m\u001b[0m\n\u001b[1;32m     93\u001b[0m \u001b[0;34m\u001b[0m\u001b[0m\n\u001b[0;32m---> 94\u001b[0;31m \u001b[0;34m@\u001b[0m\u001b[0mconvert\u001b[0m\u001b[0;34m.\u001b[0m\u001b[0mregister\u001b[0m\u001b[0;34m(\u001b[0m\u001b[0;34m(\u001b[0m\u001b[0mpd\u001b[0m\u001b[0;34m.\u001b[0m\u001b[0mTimestamp\u001b[0m\u001b[0;34m,\u001b[0m \u001b[0mpd\u001b[0m\u001b[0;34m.\u001b[0m\u001b[0mTimedelta\u001b[0m\u001b[0;34m)\u001b[0m\u001b[0;34m,\u001b[0m \u001b[0;34m(\u001b[0m\u001b[0mpd\u001b[0m\u001b[0;34m.\u001b[0m\u001b[0mtslib\u001b[0m\u001b[0;34m.\u001b[0m\u001b[0mNaTType\u001b[0m\u001b[0;34m,\u001b[0m \u001b[0mtype\u001b[0m\u001b[0;34m(\u001b[0m\u001b[0;32mNone\u001b[0m\u001b[0;34m)\u001b[0m\u001b[0;34m)\u001b[0m\u001b[0;34m)\u001b[0m\u001b[0;34m\u001b[0m\u001b[0;34m\u001b[0m\u001b[0m\n\u001b[0m\u001b[1;32m     95\u001b[0m \u001b[0;32mdef\u001b[0m \u001b[0mconvert_null_or_nat_to_nat\u001b[0m\u001b[0;34m(\u001b[0m\u001b[0mn\u001b[0m\u001b[0;34m,\u001b[0m \u001b[0;34m**\u001b[0m\u001b[0mkwargs\u001b[0m\u001b[0;34m)\u001b[0m\u001b[0;34m:\u001b[0m\u001b[0;34m\u001b[0m\u001b[0;34m\u001b[0m\u001b[0m\n\u001b[1;32m     96\u001b[0m     \u001b[0;32mreturn\u001b[0m \u001b[0mpd\u001b[0m\u001b[0;34m.\u001b[0m\u001b[0mNaT\u001b[0m\u001b[0;34m\u001b[0m\u001b[0;34m\u001b[0m\u001b[0m\n",
      "\u001b[0;31mAttributeError\u001b[0m: module 'pandas' has no attribute 'tslib'"
     ]
    }
   ],
   "source": [
    "from odo import odo\n",
    "\n",
    "data = odo('mongodb://27017/ottawa::geo_', pd.DataFrame)"
   ]
  },
  {
   "cell_type": "code",
   "execution_count": null,
   "metadata": {},
   "outputs": [],
   "source": []
  }
 ],
 "metadata": {
  "interpreter": {
   "hash": "d0dfd7268789880de84d768d68ff31902ba531fbeb8e3be281708f0089ada016"
  },
  "kernelspec": {
   "display_name": "Python 3.6.13 64-bit ('PythonData': conda)",
   "language": "python",
   "name": "python3"
  },
  "language_info": {
   "codemirror_mode": {
    "name": "ipython",
    "version": 3
   },
   "file_extension": ".py",
   "mimetype": "text/x-python",
   "name": "python",
   "nbconvert_exporter": "python",
   "pygments_lexer": "ipython3",
   "version": "3.6.13"
  },
  "orig_nbformat": 4
 },
 "nbformat": 4,
 "nbformat_minor": 2
}
